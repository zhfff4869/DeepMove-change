{
 "metadata": {
  "language_info": {
   "codemirror_mode": {
    "name": "ipython",
    "version": 3
   },
   "file_extension": ".py",
   "mimetype": "text/x-python",
   "name": "python",
   "nbconvert_exporter": "python",
   "pygments_lexer": "ipython3",
   "version": "3.7.9-final"
  },
  "orig_nbformat": 2,
  "kernelspec": {
   "name": "python3",
   "display_name": "Python 3.7.9 64-bit ('torch': conda)",
   "metadata": {
    "interpreter": {
     "hash": "18d8c5ac3fbd701a48ac9fbe74ad6f6c9aef155208969c646573cb9098b837a9"
    }
   }
  }
 },
 "nbformat": 4,
 "nbformat_minor": 2,
 "cells": [
  {
   "cell_type": "code",
   "execution_count": 1,
   "metadata": {},
   "outputs": [],
   "source": [
    "import pandas as pd\n",
    "import numpy as np"
   ]
  },
  {
   "cell_type": "code",
   "execution_count": 4,
   "metadata": {},
   "outputs": [
    {
     "output_type": "execute_result",
     "data": {
      "text/plain": [
       "        userId                   venueId           venueCategoryId  \\\n",
       "0            1  4abc1f51f964a520798620e3  4bf58dd8d48988d1ce941735   \n",
       "1            1  4d4ac10da0ef54814b6ffff6  4bf58dd8d48988d157941735   \n",
       "2            1  4db44994cda1c57c82583709  4bf58dd8d48988d1f1931735   \n",
       "3            1  4a541923f964a52008b31fe3  4bf58dd8d48988d14e941735   \n",
       "4            1  40f1d480f964a5205b0a1fe3  4bf58dd8d48988d143941735   \n",
       "...        ...                       ...                       ...   \n",
       "227423    1083  49f4dca6f964a520626b1fe3  4bf58dd8d48988d1c1941735   \n",
       "227424    1083  40b68100f964a52085001fe3  4bf58dd8d48988d116941735   \n",
       "227425    1083  4eda64ced5fb8f213a5d740e  4bf58dd8d48988d176941735   \n",
       "227426    1083  51140198e4b0874a568cde81  4bf58dd8d48988d162941735   \n",
       "227427    1083  4a53d9a7f964a520c7b21fe3  4bf58dd8d48988d124941735   \n",
       "\n",
       "                venueCategory   latitude  longitude                 localtime  \\\n",
       "0          Seafood Restaurant  40.781558 -73.975792 2012-04-04 19:31:31+00:00   \n",
       "1         American Restaurant  40.784018 -73.974524 2012-04-07 13:42:24+00:00   \n",
       "2       General Entertainment  40.739398 -73.993210 2012-04-08 14:20:29+00:00   \n",
       "3         American Restaurant  40.785677 -73.976498 2012-04-08 16:02:10+00:00   \n",
       "4              Breakfast Spot  40.719929 -74.008532 2012-04-09 12:20:52+00:00   \n",
       "...                       ...        ...        ...                       ...   \n",
       "227423     Mexican Restaurant  40.735174 -73.979597 2013-02-01 23:19:34+00:00   \n",
       "227424                    Bar  40.737831 -73.981022 2013-02-01 23:48:36+00:00   \n",
       "227425   Gym / Fitness Center  40.746119 -73.993070 2013-02-07 18:37:55+00:00   \n",
       "227426   Other Great Outdoors  40.757790 -73.981934 2013-02-08 08:15:06+00:00   \n",
       "227427                 Office  40.745518 -73.992351 2013-02-11 10:49:50+00:00   \n",
       "\n",
       "        day  daytimelabel  \n",
       "0         2             6  \n",
       "1         5             4  \n",
       "2         6             4  \n",
       "3         6             5  \n",
       "4         0             4  \n",
       "...     ...           ...  \n",
       "227423    4             7  \n",
       "227424    4             7  \n",
       "227425    3             6  \n",
       "227426    4             2  \n",
       "227427    0             3  \n",
       "\n",
       "[227428 rows x 9 columns]"
      ],
      "text/html": "<div>\n<style scoped>\n    .dataframe tbody tr th:only-of-type {\n        vertical-align: middle;\n    }\n\n    .dataframe tbody tr th {\n        vertical-align: top;\n    }\n\n    .dataframe thead th {\n        text-align: right;\n    }\n</style>\n<table border=\"1\" class=\"dataframe\">\n  <thead>\n    <tr style=\"text-align: right;\">\n      <th></th>\n      <th>userId</th>\n      <th>venueId</th>\n      <th>venueCategoryId</th>\n      <th>venueCategory</th>\n      <th>latitude</th>\n      <th>longitude</th>\n      <th>localtime</th>\n      <th>day</th>\n      <th>daytimelabel</th>\n    </tr>\n  </thead>\n  <tbody>\n    <tr>\n      <th>0</th>\n      <td>1</td>\n      <td>4abc1f51f964a520798620e3</td>\n      <td>4bf58dd8d48988d1ce941735</td>\n      <td>Seafood Restaurant</td>\n      <td>40.781558</td>\n      <td>-73.975792</td>\n      <td>2012-04-04 19:31:31+00:00</td>\n      <td>2</td>\n      <td>6</td>\n    </tr>\n    <tr>\n      <th>1</th>\n      <td>1</td>\n      <td>4d4ac10da0ef54814b6ffff6</td>\n      <td>4bf58dd8d48988d157941735</td>\n      <td>American Restaurant</td>\n      <td>40.784018</td>\n      <td>-73.974524</td>\n      <td>2012-04-07 13:42:24+00:00</td>\n      <td>5</td>\n      <td>4</td>\n    </tr>\n    <tr>\n      <th>2</th>\n      <td>1</td>\n      <td>4db44994cda1c57c82583709</td>\n      <td>4bf58dd8d48988d1f1931735</td>\n      <td>General Entertainment</td>\n      <td>40.739398</td>\n      <td>-73.993210</td>\n      <td>2012-04-08 14:20:29+00:00</td>\n      <td>6</td>\n      <td>4</td>\n    </tr>\n    <tr>\n      <th>3</th>\n      <td>1</td>\n      <td>4a541923f964a52008b31fe3</td>\n      <td>4bf58dd8d48988d14e941735</td>\n      <td>American Restaurant</td>\n      <td>40.785677</td>\n      <td>-73.976498</td>\n      <td>2012-04-08 16:02:10+00:00</td>\n      <td>6</td>\n      <td>5</td>\n    </tr>\n    <tr>\n      <th>4</th>\n      <td>1</td>\n      <td>40f1d480f964a5205b0a1fe3</td>\n      <td>4bf58dd8d48988d143941735</td>\n      <td>Breakfast Spot</td>\n      <td>40.719929</td>\n      <td>-74.008532</td>\n      <td>2012-04-09 12:20:52+00:00</td>\n      <td>0</td>\n      <td>4</td>\n    </tr>\n    <tr>\n      <th>...</th>\n      <td>...</td>\n      <td>...</td>\n      <td>...</td>\n      <td>...</td>\n      <td>...</td>\n      <td>...</td>\n      <td>...</td>\n      <td>...</td>\n      <td>...</td>\n    </tr>\n    <tr>\n      <th>227423</th>\n      <td>1083</td>\n      <td>49f4dca6f964a520626b1fe3</td>\n      <td>4bf58dd8d48988d1c1941735</td>\n      <td>Mexican Restaurant</td>\n      <td>40.735174</td>\n      <td>-73.979597</td>\n      <td>2013-02-01 23:19:34+00:00</td>\n      <td>4</td>\n      <td>7</td>\n    </tr>\n    <tr>\n      <th>227424</th>\n      <td>1083</td>\n      <td>40b68100f964a52085001fe3</td>\n      <td>4bf58dd8d48988d116941735</td>\n      <td>Bar</td>\n      <td>40.737831</td>\n      <td>-73.981022</td>\n      <td>2013-02-01 23:48:36+00:00</td>\n      <td>4</td>\n      <td>7</td>\n    </tr>\n    <tr>\n      <th>227425</th>\n      <td>1083</td>\n      <td>4eda64ced5fb8f213a5d740e</td>\n      <td>4bf58dd8d48988d176941735</td>\n      <td>Gym / Fitness Center</td>\n      <td>40.746119</td>\n      <td>-73.993070</td>\n      <td>2013-02-07 18:37:55+00:00</td>\n      <td>3</td>\n      <td>6</td>\n    </tr>\n    <tr>\n      <th>227426</th>\n      <td>1083</td>\n      <td>51140198e4b0874a568cde81</td>\n      <td>4bf58dd8d48988d162941735</td>\n      <td>Other Great Outdoors</td>\n      <td>40.757790</td>\n      <td>-73.981934</td>\n      <td>2013-02-08 08:15:06+00:00</td>\n      <td>4</td>\n      <td>2</td>\n    </tr>\n    <tr>\n      <th>227427</th>\n      <td>1083</td>\n      <td>4a53d9a7f964a520c7b21fe3</td>\n      <td>4bf58dd8d48988d124941735</td>\n      <td>Office</td>\n      <td>40.745518</td>\n      <td>-73.992351</td>\n      <td>2013-02-11 10:49:50+00:00</td>\n      <td>0</td>\n      <td>3</td>\n    </tr>\n  </tbody>\n</table>\n<p>227428 rows × 9 columns</p>\n</div>"
     },
     "metadata": {},
     "execution_count": 4
    }
   ],
   "source": [
    "df=pd.read_csv('datacheck_1.csv',parse_dates=['localtime'])\n",
    "df"
   ]
  },
  {
   "cell_type": "code",
   "execution_count": 5,
   "metadata": {},
   "outputs": [
    {
     "output_type": "execute_result",
     "data": {
      "text/plain": [
       "Timestamp('2012-04-07 13:42:24+0000', tz='UTC')"
      ]
     },
     "metadata": {},
     "execution_count": 5
    }
   ],
   "source": [
    "df.localtime[1]"
   ]
  },
  {
   "cell_type": "code",
   "execution_count": 7,
   "metadata": {},
   "outputs": [],
   "source": [
    "import datetime"
   ]
  },
  {
   "cell_type": "code",
   "execution_count": 14,
   "metadata": {},
   "outputs": [],
   "source": [
    "u_categories=list(set(df.userId))"
   ]
  },
  {
   "cell_type": "code",
   "execution_count": 17,
   "metadata": {},
   "outputs": [
    {
     "output_type": "execute_result",
     "data": {
      "text/plain": [
       "100"
      ]
     },
     "metadata": {},
     "execution_count": 17
    }
   ],
   "source": [
    "min([len(df[df.userId==uid]) for uid in u_categories])"
   ]
  },
  {
   "cell_type": "code",
   "execution_count": 27,
   "metadata": {},
   "outputs": [
    {
     "output_type": "execute_result",
     "data": {
      "text/plain": [
       "     userId                   venueId           venueCategoryId  \\\n",
       "0         2  4ef372169adf60f8399b4bd7  4bf58dd8d48988d16a941735   \n",
       "1         2  49cbb6f9f964a5200f591fe3  4bf58dd8d48988d1f6941735   \n",
       "2         2  4b194ddaf964a520efda23e3  4bf58dd8d48988d143941735   \n",
       "3         2  4beee07fd355a5935b7c0b60  4bf58dd8d48988d110941735   \n",
       "4         2  4b004fc9f964a520ab3c22e3  4bf58dd8d48988d1f8941735   \n",
       "..      ...                       ...                       ...   \n",
       "147       2  4b28e31df964a520ed9524e3  4bf58dd8d48988d172941735   \n",
       "148       2  4d7e1718e7e1721e5acbd90b  4bf58dd8d48988d1c5941735   \n",
       "149       2  4b8f50d9f964a520365133e3  4bf58dd8d48988d1fd931735   \n",
       "150       2  4cc01786ca4aa1cd2cb41db4  4bf58dd8d48988d103941735   \n",
       "151       2  42ec1480f964a5209e261fe3  4bf58dd8d48988d1e2941735   \n",
       "\n",
       "              venueCategory   latitude  longitude                 localtime  \\\n",
       "0                    Bakery  40.746577 -73.981732 2012-04-04 09:43:46+00:00   \n",
       "1          Department Store  40.758315 -73.977284 2012-04-04 11:36:09+00:00   \n",
       "2            Breakfast Spot  40.624377 -74.148583 2012-04-08 11:11:51+00:00   \n",
       "3        Italian Restaurant  40.601429 -74.176100 2012-04-09 12:04:38+00:00   \n",
       "4    Furniture / Home Store  40.652055 -73.870647 2012-04-11 15:43:59+00:00   \n",
       "..                      ...        ...        ...                       ...   \n",
       "147             Post Office  40.752830 -73.974959 2013-02-13 09:34:49+00:00   \n",
       "148          Sandwich Place  40.752443 -73.975046 2013-02-13 10:01:59+00:00   \n",
       "149                  Subway  40.646099 -73.902669 2013-02-13 13:19:37+00:00   \n",
       "150          Home (private)  40.562843 -73.918346 2013-02-13 13:45:14+00:00   \n",
       "151                   Beach  40.567089 -73.865461 2013-02-13 14:16:40+00:00   \n",
       "\n",
       "     day  daytimelabel  \n",
       "0      2             3  \n",
       "1      2             3  \n",
       "2      6             3  \n",
       "3      0             4  \n",
       "4      2             5  \n",
       "..   ...           ...  \n",
       "147    2             3  \n",
       "148    2             3  \n",
       "149    2             4  \n",
       "150    2             4  \n",
       "151    2             4  \n",
       "\n",
       "[152 rows x 9 columns]"
      ],
      "text/html": "<div>\n<style scoped>\n    .dataframe tbody tr th:only-of-type {\n        vertical-align: middle;\n    }\n\n    .dataframe tbody tr th {\n        vertical-align: top;\n    }\n\n    .dataframe thead th {\n        text-align: right;\n    }\n</style>\n<table border=\"1\" class=\"dataframe\">\n  <thead>\n    <tr style=\"text-align: right;\">\n      <th></th>\n      <th>userId</th>\n      <th>venueId</th>\n      <th>venueCategoryId</th>\n      <th>venueCategory</th>\n      <th>latitude</th>\n      <th>longitude</th>\n      <th>localtime</th>\n      <th>day</th>\n      <th>daytimelabel</th>\n    </tr>\n  </thead>\n  <tbody>\n    <tr>\n      <th>0</th>\n      <td>2</td>\n      <td>4ef372169adf60f8399b4bd7</td>\n      <td>4bf58dd8d48988d16a941735</td>\n      <td>Bakery</td>\n      <td>40.746577</td>\n      <td>-73.981732</td>\n      <td>2012-04-04 09:43:46+00:00</td>\n      <td>2</td>\n      <td>3</td>\n    </tr>\n    <tr>\n      <th>1</th>\n      <td>2</td>\n      <td>49cbb6f9f964a5200f591fe3</td>\n      <td>4bf58dd8d48988d1f6941735</td>\n      <td>Department Store</td>\n      <td>40.758315</td>\n      <td>-73.977284</td>\n      <td>2012-04-04 11:36:09+00:00</td>\n      <td>2</td>\n      <td>3</td>\n    </tr>\n    <tr>\n      <th>2</th>\n      <td>2</td>\n      <td>4b194ddaf964a520efda23e3</td>\n      <td>4bf58dd8d48988d143941735</td>\n      <td>Breakfast Spot</td>\n      <td>40.624377</td>\n      <td>-74.148583</td>\n      <td>2012-04-08 11:11:51+00:00</td>\n      <td>6</td>\n      <td>3</td>\n    </tr>\n    <tr>\n      <th>3</th>\n      <td>2</td>\n      <td>4beee07fd355a5935b7c0b60</td>\n      <td>4bf58dd8d48988d110941735</td>\n      <td>Italian Restaurant</td>\n      <td>40.601429</td>\n      <td>-74.176100</td>\n      <td>2012-04-09 12:04:38+00:00</td>\n      <td>0</td>\n      <td>4</td>\n    </tr>\n    <tr>\n      <th>4</th>\n      <td>2</td>\n      <td>4b004fc9f964a520ab3c22e3</td>\n      <td>4bf58dd8d48988d1f8941735</td>\n      <td>Furniture / Home Store</td>\n      <td>40.652055</td>\n      <td>-73.870647</td>\n      <td>2012-04-11 15:43:59+00:00</td>\n      <td>2</td>\n      <td>5</td>\n    </tr>\n    <tr>\n      <th>...</th>\n      <td>...</td>\n      <td>...</td>\n      <td>...</td>\n      <td>...</td>\n      <td>...</td>\n      <td>...</td>\n      <td>...</td>\n      <td>...</td>\n      <td>...</td>\n    </tr>\n    <tr>\n      <th>147</th>\n      <td>2</td>\n      <td>4b28e31df964a520ed9524e3</td>\n      <td>4bf58dd8d48988d172941735</td>\n      <td>Post Office</td>\n      <td>40.752830</td>\n      <td>-73.974959</td>\n      <td>2013-02-13 09:34:49+00:00</td>\n      <td>2</td>\n      <td>3</td>\n    </tr>\n    <tr>\n      <th>148</th>\n      <td>2</td>\n      <td>4d7e1718e7e1721e5acbd90b</td>\n      <td>4bf58dd8d48988d1c5941735</td>\n      <td>Sandwich Place</td>\n      <td>40.752443</td>\n      <td>-73.975046</td>\n      <td>2013-02-13 10:01:59+00:00</td>\n      <td>2</td>\n      <td>3</td>\n    </tr>\n    <tr>\n      <th>149</th>\n      <td>2</td>\n      <td>4b8f50d9f964a520365133e3</td>\n      <td>4bf58dd8d48988d1fd931735</td>\n      <td>Subway</td>\n      <td>40.646099</td>\n      <td>-73.902669</td>\n      <td>2013-02-13 13:19:37+00:00</td>\n      <td>2</td>\n      <td>4</td>\n    </tr>\n    <tr>\n      <th>150</th>\n      <td>2</td>\n      <td>4cc01786ca4aa1cd2cb41db4</td>\n      <td>4bf58dd8d48988d103941735</td>\n      <td>Home (private)</td>\n      <td>40.562843</td>\n      <td>-73.918346</td>\n      <td>2013-02-13 13:45:14+00:00</td>\n      <td>2</td>\n      <td>4</td>\n    </tr>\n    <tr>\n      <th>151</th>\n      <td>2</td>\n      <td>42ec1480f964a5209e261fe3</td>\n      <td>4bf58dd8d48988d1e2941735</td>\n      <td>Beach</td>\n      <td>40.567089</td>\n      <td>-73.865461</td>\n      <td>2013-02-13 14:16:40+00:00</td>\n      <td>2</td>\n      <td>4</td>\n    </tr>\n  </tbody>\n</table>\n<p>152 rows × 9 columns</p>\n</div>"
     },
     "metadata": {},
     "execution_count": 27
    }
   ],
   "source": [
    "df_sub=df[df.userId==uid]\n",
    "df_sub.sort_values(by=['localtime'],ignore_index=True)"
   ]
  },
  {
   "cell_type": "code",
   "execution_count": 74,
   "metadata": {},
   "outputs": [],
   "source": [
    "# test\n",
    "session_dt=datetime.timedelta(hours=72)\n",
    "S_u={uid:[] for uid in u_categories}\n",
    "for uid in u_categories:\n",
    "    df_sub=df[df.userId==uid]\n",
    "    df_sub.sort_values(by=['localtime'],ignore_index=True,inplace=True)\n",
    "    for index in df_sub.index:\n",
    "        if index is 0:  #每个用户最开始时要添加session\n",
    "            S_u[uid].append([]) #append a session\n",
    "            r=df_sub[['venueCategory','day','daytimelabel']].iloc[index].to_list()\n",
    "            S_u[uid][-1].append(r)   #add a record into current session\n",
    "            continue\n",
    "        if df_sub.localtime[index]-df.localtime[index-1]>session_dt:    #时间间隔超过72小时添加新session\n",
    "            S_u[uid].append([]) #append a session\n",
    "            r=df_sub[['venueCategory','day','daytimelabel']].iloc[index].to_list()\n",
    "            S_u[uid][-1].append(r)   #add a record into current session\n",
    "            continue\n",
    "        # if len(S_u[uid][-1])>=20: #session长度超过20则添加新session\n",
    "        #     S_u[uid].append([]) #append a session\n",
    "        #     r=df_sub[['venueCategory','day','daytimelabel']].iloc[index].to_list()\n",
    "        #     S_u[uid][-1].append(r)   #add a record into current session\n",
    "        #     continue\n",
    "\n",
    "        r=df_sub[['venueCategory','day','daytimelabel']].iloc[index].to_list() #普通的连续记录直接添加到当前session\n",
    "        S_u[uid][-1].append(r)   #add a record into current session"
   ]
  },
  {
   "cell_type": "code",
   "execution_count": 75,
   "metadata": {},
   "outputs": [],
   "source": [
    "S_u_filtered={uid:[] for uid in u_categories}\n",
    "for uid in u_categories:\n",
    "    for session in S_u[uid]:\n",
    "        if len(session)>=5:\n",
    "            S_u_filtered[uid].append(session)"
   ]
  },
  {
   "cell_type": "code",
   "execution_count": 76,
   "metadata": {},
   "outputs": [
    {
     "output_type": "execute_result",
     "data": {
      "text/plain": [
       "1083"
      ]
     },
     "metadata": {},
     "execution_count": 76
    }
   ],
   "source": [
    "len(S_u_filtered)"
   ]
  },
  {
   "source": [
    "user_filter=[uid for uid in u_categories if len(S_u_filtered[uid])<5]\n",
    "for uid in user_filter:\n",
    "    S_u_filtered.pop(uid)\n",
    "len(S_u_filtered)"
   ],
   "cell_type": "code",
   "metadata": {},
   "execution_count": 77,
   "outputs": [
    {
     "output_type": "execute_result",
     "data": {
      "text/plain": [
       "28"
      ]
     },
     "metadata": {},
     "execution_count": 77
    }
   ]
  },
  {
   "cell_type": "code",
   "execution_count": 12,
   "metadata": {},
   "outputs": [],
   "source": [
    "import torch\n",
    "from torch.autograd import Variable"
   ]
  },
  {
   "cell_type": "code",
   "execution_count": 2,
   "metadata": {},
   "outputs": [],
   "source": [
    "import numpy as np"
   ]
  },
  {
   "cell_type": "code",
   "execution_count": 3,
   "metadata": {},
   "outputs": [
    {
     "output_type": "execute_result",
     "data": {
      "text/plain": [
       "tensor([2., 4.], dtype=torch.float64)"
      ]
     },
     "metadata": {},
     "execution_count": 3
    }
   ],
   "source": [
    "torch.Tensor([1,2])+np.array([1,2])"
   ]
  },
  {
   "cell_type": "code",
   "execution_count": 44,
   "metadata": {},
   "outputs": [
    {
     "output_type": "execute_result",
     "data": {
      "text/plain": [
       "tensor([20.], grad_fn=<MulBackward0>)"
      ]
     },
     "metadata": {},
     "execution_count": 44
    }
   ],
   "source": [
    "x=Variable(torch.Tensor([2]),requires_grad=True)\n",
    "y=torch.Tensor([10])\n",
    "z=x*y\n",
    "z"
   ]
  },
  {
   "cell_type": "code",
   "execution_count": 45,
   "metadata": {},
   "outputs": [],
   "source": [
    "z.backward()"
   ]
  },
  {
   "cell_type": "code",
   "execution_count": 46,
   "metadata": {},
   "outputs": [
    {
     "output_type": "execute_result",
     "data": {
      "text/plain": [
       "(tensor([10.]), None, None)"
      ]
     },
     "metadata": {},
     "execution_count": 46
    }
   ],
   "source": [
    "x.grad.data,z.grad,y.grad"
   ]
  },
  {
   "cell_type": "code",
   "execution_count": 47,
   "metadata": {},
   "outputs": [
    {
     "output_type": "execute_result",
     "data": {
      "text/plain": [
       "tensor([0.])"
      ]
     },
     "metadata": {},
     "execution_count": 47
    }
   ],
   "source": [
    "x.data.add_(-0.1,x.grad.data)\n",
    "x.grad.data.zero_()"
   ]
  },
  {
   "cell_type": "code",
   "execution_count": 48,
   "metadata": {},
   "outputs": [
    {
     "output_type": "execute_result",
     "data": {
      "text/plain": [
       "(tensor([10.], grad_fn=<MulBackward0>), tensor([10.]))"
      ]
     },
     "metadata": {},
     "execution_count": 48
    }
   ],
   "source": [
    "z=x*y\n",
    "z.backward()\n",
    "z,x.grad"
   ]
  },
  {
   "cell_type": "code",
   "execution_count": 49,
   "metadata": {},
   "outputs": [
    {
     "output_type": "execute_result",
     "data": {
      "text/plain": [
       "tensor([0.])"
      ]
     },
     "metadata": {},
     "execution_count": 49
    }
   ],
   "source": [
    "x.data.add_(-0.1,x.grad.data)\n",
    "x.grad.data.zero_()"
   ]
  }
 ]
}