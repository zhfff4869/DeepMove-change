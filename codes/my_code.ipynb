{
 "metadata": {
  "language_info": {
   "codemirror_mode": {
    "name": "ipython",
    "version": 3
   },
   "file_extension": ".py",
   "mimetype": "text/x-python",
   "name": "python",
   "nbconvert_exporter": "python",
   "pygments_lexer": "ipython3",
   "version": "3.8.3-final"
  },
  "orig_nbformat": 2,
  "kernelspec": {
   "name": "python3",
   "display_name": "Python 3",
   "language": "python"
  }
 },
 "nbformat": 4,
 "nbformat_minor": 2,
 "cells": [
  {
   "cell_type": "code",
   "execution_count": 2,
   "metadata": {},
   "outputs": [],
   "source": [
    "import numpy as np\n",
    "import pandas as pd"
   ]
  },
  {
   "source": [
    "### processing 1 start"
   ],
   "cell_type": "markdown",
   "metadata": {}
  },
  {
   "cell_type": "code",
   "execution_count": null,
   "metadata": {},
   "outputs": [],
   "source": [
    "df=pd.read_csv('./dataset_TSMC2014_NYC.csv',parse_dates=['utcTimestamp'])\n",
    "df.head()"
   ]
  },
  {
   "cell_type": "code",
   "execution_count": null,
   "metadata": {},
   "outputs": [],
   "source": [
    "import datetime"
   ]
  },
  {
   "cell_type": "code",
   "execution_count": null,
   "metadata": {},
   "outputs": [],
   "source": [
    "df['localtime']=0\n",
    "for index in range(len(df)):\n",
    "    dt=datetime.timedelta(minutes=int(df.timezoneOffset[index]))\n",
    "    df['localtime'][index]=df.utcTimestamp[index]+dt\n",
    "df.head()"
   ]
  },
  {
   "cell_type": "code",
   "execution_count": null,
   "metadata": {},
   "outputs": [],
   "source": [
    "df['day']=df.localtime.apply(lambda x: x.dayofweek)\n",
    "df.head()"
   ]
  },
  {
   "cell_type": "code",
   "execution_count": null,
   "metadata": {},
   "outputs": [],
   "source": [
    "# len(df)/len(set(df.userId.to_numpy()))  #平均每个用户长度为210\n",
    "# print([len(df[df.userId==x]) for x in list(set(df.userId.to_numpy()))])\n",
    "# min([len(df[df.userId==x]) for x in list(set(df.userId.to_numpy()))])"
   ]
  },
  {
   "source": [
    "### 去掉序列长度小于100的用户数据"
   ],
   "cell_type": "markdown",
   "metadata": {}
  },
  {
   "cell_type": "code",
   "execution_count": null,
   "metadata": {},
   "outputs": [],
   "source": [
    "userId=df.userId.to_numpy()\n",
    "u_categories=list(set(userId))\n",
    "\n",
    "uids_filter=[]    \n",
    "for uid in u_categories:\n",
    "    if len(df[df.userId==uid])<=100:\n",
    "        uids_filter.append(uid)\n",
    "for uid in uids_filter:\n",
    "    index=df[df.userId==uid].index\n",
    "    df.drop(index=index,inplace=True)"
   ]
  },
  {
   "cell_type": "code",
   "execution_count": null,
   "metadata": {},
   "outputs": [],
   "source": [
    "df.sort_values(by=['userId','localtime'],ignore_index=True,inplace=True)    #重新给index排序\n",
    "df"
   ]
  },
  {
   "source": [
    "# #检查是否去掉了一些用户\n",
    "# userId=df.userId.to_numpy()\n",
    "# u_categories=list(set(userId))\n",
    "# len(u_categories)"
   ],
   "cell_type": "code",
   "metadata": {},
   "execution_count": null,
   "outputs": []
  },
  {
   "source": [
    "### split everyday to 8 intervals"
   ],
   "cell_type": "markdown",
   "metadata": {}
  },
  {
   "cell_type": "code",
   "execution_count": null,
   "metadata": {},
   "outputs": [],
   "source": [
    "def Timelabel(x):\n",
    "    x=x.hour*60+x.minute+x.second/60\n",
    "    # hour=datetime.time.fromisoformat(x).hour\n",
    "    intervals=np.linspace(180,24*60,8)  #interval is 180 minutes,so timelabel from 0 to 7.\n",
    "\n",
    "    return np.digitize(x,intervals)  \n",
    "\n",
    "df['daytimelabel']=df.localtime.apply(Timelabel)\n",
    "df.head()"
   ]
  },
  {
   "cell_type": "code",
   "execution_count": null,
   "metadata": {},
   "outputs": [],
   "source": [
    "df.drop(columns=['timezoneOffset','utcTimestamp'],inplace=True)\n",
    "df.head()"
   ]
  },
  {
   "source": [
    "### interval=72 hours 将每个用户的记录序列切分为sessions"
   ],
   "cell_type": "markdown",
   "metadata": {}
  },
  {
   "cell_type": "code",
   "execution_count": null,
   "metadata": {},
   "outputs": [],
   "source": [
    "# df[df.userId==1]"
   ]
  },
  {
   "cell_type": "code",
   "execution_count": null,
   "metadata": {},
   "outputs": [],
   "source": [
    "# df.to_csv('datacheck_1.csv',index=False)"
   ]
  },
  {
   "source": [
    "### Processing 1 over,2 start"
   ],
   "cell_type": "markdown",
   "metadata": {}
  },
  {
   "cell_type": "code",
   "execution_count": 55,
   "metadata": {},
   "outputs": [],
   "source": [
    "df = pd.read_csv('datacheck_1.csv',parse_dates=['localtime'])"
   ]
  },
  {
   "cell_type": "code",
   "execution_count": null,
   "metadata": {},
   "outputs": [],
   "source": [
    "# x=[[1,2],[3,4,5],[]]\n",
    "# x[-1].append(df[['venueCategory','day','daytimelabel']].iloc[2].to_list())\n",
    "# x"
   ]
  },
  {
   "cell_type": "code",
   "execution_count": 56,
   "metadata": {},
   "outputs": [],
   "source": [
    "data_all={}"
   ]
  },
  {
   "cell_type": "code",
   "execution_count": 57,
   "metadata": {},
   "outputs": [],
   "source": [
    "uid_categories=list(set(df.userId.to_numpy()))  #encode uid,vid,vcid from 0 to length\n",
    "vid_categories=list(set(df.venueId.to_numpy()))     \n",
    "vcid_categories=list(set(df.venueCategoryId.to_numpy()))\n",
    "\n",
    "df['userId']=df.userId.apply(lambda x:uid_categories.index(x))    #重新编码\n",
    "df['venueId']=df.venueId.apply(lambda x:vid_categories.index(x))\n",
    "df['venueCategoryId']=df.venueCategoryId.apply(lambda x:vcid_categories.index(x))\n",
    "\n",
    "uid_categories=list(set(df.userId.to_numpy()))\n",
    "vid_categories=list(set(df.venueId.to_numpy()))   \n",
    "vcid_categories=list(set(df.venueCategoryId.to_numpy()))\n",
    "\n",
    "data_all['uid_categories']=uid_categories\n",
    "data_all['vid_categories']=vid_categories\n",
    "data_all['vcid_categories']=vcid_categories"
   ]
  },
  {
   "cell_type": "code",
   "execution_count": 58,
   "metadata": {},
   "outputs": [],
   "source": [
    "vcid_vc={}   #dict from vcid to vc\n",
    "for index in df.index:\n",
    "    vcid=df.venueCategoryId[index]\n",
    "    vc=df.venueCategory[index]\n",
    "    if vcid not in vcid_vc:\n",
    "        vcid_vc[vcid]=[vc,0]\n",
    "    else:\n",
    "        vcid_vc[vcid][1]+=1\n",
    "data_all['vcid_vc']=vcid_vc"
   ]
  },
  {
   "cell_type": "code",
   "execution_count": 7,
   "metadata": {},
   "outputs": [],
   "source": [
    "vid_vcid={}\n",
    "for index in df.index:\n",
    "    vcid=df.venueCategoryId[index]\n",
    "    vid=df.venueId[index]\n",
    "    if vid not in vid_vcid:\n",
    "        vid_vcid[vid]=vcid\n",
    "data_all['vid_vcid']=vid_vcid"
   ]
  },
  {
   "cell_type": "code",
   "execution_count": 59,
   "metadata": {},
   "outputs": [],
   "source": [
    "vid_vc={}\n",
    "for index in df.index:\n",
    "    vid=df.venueId[index]\n",
    "    vc=df.venueCategory[index]\n",
    "    if vid not in vid_vc:\n",
    "        vid_vc[vid]=vc\n",
    "data_all['vid_vc']=vid_vc"
   ]
  },
  {
   "cell_type": "code",
   "execution_count": 60,
   "metadata": {},
   "outputs": [],
   "source": [
    "gps_seq=df[['latitude','longitude']].to_numpy()"
   ]
  },
  {
   "cell_type": "code",
   "execution_count": 61,
   "metadata": {},
   "outputs": [],
   "source": [
    "vid_gps={}\n",
    "for index in df.index:\n",
    "    gps=gps_seq[index]\n",
    "    vid=df.venueId[index]\n",
    "    if vid not in vid_gps:\n",
    "        vid_gps[vid]=gps\n",
    "data_all['vid_gps']=vid_gps"
   ]
  },
  {
   "cell_type": "code",
   "execution_count": 10,
   "metadata": {},
   "outputs": [],
   "source": [
    "# lat=gps_seq[:,0]\n",
    "# lat_min=min(lat)\n",
    "# lat_max=max(lat)\n",
    "# lon=gps_seq[:,1]\n",
    "# lon_min=min(lon)\n",
    "# lon_max=max(lon)"
   ]
  },
  {
   "cell_type": "code",
   "execution_count": 20,
   "metadata": {},
   "outputs": [],
   "source": [
    "# import gmplot\n",
    "# gmap = gmplot.GoogleMapPlotter(lat[0], lon[0], 11)\n",
    "# user=1\n",
    "# lat1=df[df.userId==user].latitude.to_numpy()\n",
    "# lon1=df[df.userId==user].longitude.to_numpy()\n",
    "# gmap.scatter(lat1,lon1,color='red',size=40)\n",
    "# gmap.plot(lat1, lon1)\n",
    "# gmap.draw(\"data_map_\"+str(user)+\".html\")"
   ]
  },
  {
   "cell_type": "code",
   "execution_count": 22,
   "metadata": {},
   "outputs": [],
   "source": [
    "import datetime"
   ]
  },
  {
   "cell_type": "code",
   "execution_count": 62,
   "metadata": {},
   "outputs": [],
   "source": [
    "session_dt=datetime.timedelta(hours=72)\n",
    "S_u={uid:[] for uid in uid_categories}\n",
    "for uid in uid_categories:\n",
    "    df_sub=df[df.userId==uid]\n",
    "    df_sub.sort_values(by=['localtime'],ignore_index=True,inplace=True)\n",
    "    for index in df_sub.index:\n",
    "        if index is 0:  #每个用户最开始时要添加session\n",
    "            S_u[uid].append([]) #append a session\n",
    "            r=df_sub[['userId','venueId','day','daytimelabel']].iloc[index].to_list()\n",
    "            S_u[uid][-1].append(r)   #add a record into current session\n",
    "            continue\n",
    "        if df_sub.localtime[index]-df.localtime[index-1]>session_dt:    #时间间隔超过24小时添加新session\n",
    "            S_u[uid].append([]) #append a session\n",
    "            r=df_sub[['userId','venueId','day','daytimelabel']].iloc[index].to_list()\n",
    "            S_u[uid][-1].append(r)   #add a record into current session\n",
    "            continue\n",
    "        if len(S_u[uid][-1])>=11: #session长度超过10则添加新session\n",
    "            S_u[uid].append([]) #append a session\n",
    "            r=df_sub[['userId','venueId','day','daytimelabel']].iloc[index].to_list()\n",
    "            S_u[uid][-1].append(r)   #add a record into current session\n",
    "            continue\n",
    "\n",
    "        r=df_sub[['userId','venueId','day','daytimelabel']].iloc[index].to_list() #普通的连续记录直接添加到当前session\n",
    "        S_u[uid][-1].append(r)   #add a record into current session"
   ]
  },
  {
   "cell_type": "code",
   "execution_count": 63,
   "metadata": {},
   "outputs": [],
   "source": [
    "data_all['sessions_raw']=S_u"
   ]
  },
  {
   "cell_type": "code",
   "execution_count": 65,
   "metadata": {},
   "outputs": [
    {
     "output_type": "execute_result",
     "data": {
      "text/plain": [
       "[[[0, 16228, 2, 6],\n",
       "  [0, 3354, 5, 4],\n",
       "  [0, 12527, 6, 4],\n",
       "  [0, 10493, 6, 5],\n",
       "  [0, 12337, 0, 4],\n",
       "  [0, 10662, 0, 6],\n",
       "  [0, 35153, 0, 7],\n",
       "  [0, 25905, 1, 4],\n",
       "  [0, 8051, 3, 4],\n",
       "  [0, 25905, 4, 3],\n",
       "  [0, 22734, 4, 7]],\n",
       " [[0, 32519, 4, 7],\n",
       "  [0, 20739, 5, 0],\n",
       "  [0, 6062, 5, 3],\n",
       "  [0, 16499, 5, 4],\n",
       "  [0, 20513, 5, 5],\n",
       "  [0, 27937, 5, 5],\n",
       "  [0, 8132, 5, 6],\n",
       "  [0, 19569, 5, 6],\n",
       "  [0, 19569, 5, 6],\n",
       "  [0, 30963, 0, 3],\n",
       "  [0, 7757, 0, 4]],\n",
       " [[0, 9620, 2, 4],\n",
       "  [0, 14554, 2, 7],\n",
       "  [0, 8051, 3, 5],\n",
       "  [0, 28252, 3, 6],\n",
       "  [0, 11198, 3, 7],\n",
       "  [0, 29923, 4, 6],\n",
       "  [0, 21243, 5, 4],\n",
       "  [0, 18353, 5, 4],\n",
       "  [0, 16894, 5, 4],\n",
       "  [0, 31825, 5, 5],\n",
       "  [0, 9629, 5, 5]],\n",
       " [[0, 7785, 5, 5], [0, 27578, 5, 7], [0, 3354, 6, 4], [0, 8051, 0, 4]],\n",
       " [[0, 16228, 4, 7], [0, 3354, 6, 5], [0, 22242, 1, 6], [0, 35153, 1, 6]],\n",
       " [[0, 37175, 5, 3]],\n",
       " [[0, 28964, 1, 4],\n",
       "  [0, 18990, 4, 4],\n",
       "  [0, 16286, 4, 7],\n",
       "  [0, 29831, 5, 4],\n",
       "  [0, 2834, 5, 6],\n",
       "  [0, 11273, 5, 6],\n",
       "  [0, 26798, 6, 6],\n",
       "  [0, 14136, 1, 6],\n",
       "  [0, 5132, 4, 5],\n",
       "  [0, 20597, 5, 4],\n",
       "  [0, 27103, 5, 5]],\n",
       " [[0, 9717, 4, 3],\n",
       "  [0, 35508, 4, 6],\n",
       "  [0, 25925, 4, 7],\n",
       "  [0, 18496, 5, 6],\n",
       "  [0, 35934, 6, 5],\n",
       "  [0, 26798, 6, 5],\n",
       "  [0, 30329, 0, 5],\n",
       "  [0, 5581, 1, 5],\n",
       "  [0, 13447, 1, 6],\n",
       "  [0, 23190, 1, 6]],\n",
       " [[0, 9717, 3, 4],\n",
       "  [0, 26798, 3, 6],\n",
       "  [0, 5615, 4, 6],\n",
       "  [0, 5544, 4, 6],\n",
       "  [0, 1254, 6, 4],\n",
       "  [0, 24734, 6, 5],\n",
       "  [0, 28139, 6, 5],\n",
       "  [0, 20266, 6, 5],\n",
       "  [0, 3630, 6, 6],\n",
       "  [0, 4387, 6, 6],\n",
       "  [0, 8051, 0, 4]],\n",
       " [[0, 8051, 1, 4]],\n",
       " [[0, 3777, 5, 5], [0, 11120, 5, 6]],\n",
       " [[0, 7757, 2, 4]],\n",
       " [[0, 25905, 0, 4],\n",
       "  [0, 8051, 0, 4],\n",
       "  [0, 11628, 1, 5],\n",
       "  [0, 34599, 1, 6],\n",
       "  [0, 16008, 2, 5],\n",
       "  [0, 3354, 2, 7],\n",
       "  [0, 5132, 4, 5],\n",
       "  [0, 23844, 4, 6],\n",
       "  [0, 3092, 4, 7],\n",
       "  [0, 24360, 5, 5],\n",
       "  [0, 10600, 5, 6]],\n",
       " [[0, 30212, 5, 7]],\n",
       " [[0, 26798, 4, 6], [0, 26436, 4, 7], [0, 793, 6, 4], [0, 27578, 6, 6]],\n",
       " [[0, 9717, 1, 3]],\n",
       " [[0, 11889, 6, 6], [0, 8051, 0, 5]],\n",
       " [[0, 1896, 6, 3], [0, 35153, 6, 6]],\n",
       " [[0, 8969, 4, 4], [0, 24595, 4, 4]],\n",
       " [[0, 9717, 1, 3],\n",
       "  [0, 23174, 2, 7],\n",
       "  [0, 11556, 4, 4],\n",
       "  [0, 22647, 4, 4],\n",
       "  [0, 11889, 4, 6]]]"
      ]
     },
     "metadata": {},
     "execution_count": 65
    }
   ],
   "source": [
    "S_u[0]"
   ]
  },
  {
   "source": [
    "#去掉record数量小于5的session 去掉session数量少于3的用户 得到S_u2\n",
    "S_u1={uid:[] for uid in uid_categories}\n",
    "for uid in S_u.keys():\n",
    "    for session in S_u[uid]:\n",
    "        if(len(session)>=5):\n",
    "            S_u1[uid].append(session)"
   ],
   "cell_type": "code",
   "metadata": {},
   "execution_count": 66,
   "outputs": []
  },
  {
   "cell_type": "code",
   "execution_count": 67,
   "metadata": {},
   "outputs": [
    {
     "output_type": "execute_result",
     "data": {
      "text/plain": [
       "581"
      ]
     },
     "metadata": {},
     "execution_count": 67
    }
   ],
   "source": [
    "S_u2={uid:S_u1[uid] for uid in uid_categories if len(S_u1[uid])>=5}\n",
    "len(S_u2)"
   ]
  },
  {
   "cell_type": "code",
   "execution_count": 68,
   "metadata": {},
   "outputs": [],
   "source": [
    "data_all['sessions']=S_u2"
   ]
  },
  {
   "cell_type": "code",
   "execution_count": 50,
   "metadata": {},
   "outputs": [],
   "source": [
    "# coding: utf-8\n",
    "from __future__ import print_function\n",
    "from __future__ import division\n",
    "\n",
    "import torch\n",
    "import torch.nn as nn\n",
    "import torch.nn.functional as F\n",
    "from torch.autograd import Variable"
   ]
  },
  {
   "cell_type": "code",
   "execution_count": 70,
   "metadata": {},
   "outputs": [],
   "source": [
    "parameters={}\n",
    "parameters['uid_size']=len(uid_categories)\n",
    "parameters['day_size']=7\n",
    "parameters['daytime_size']=8\n",
    "parameters['vid_size']=len(vid_categories)\n",
    "parameters['vcid_size']=len(vcid_categories)"
   ]
  },
  {
   "cell_type": "code",
   "execution_count": 71,
   "metadata": {},
   "outputs": [],
   "source": [
    "class Deepmove(nn.Module):\n",
    "    def __init__(self,parameters):\n",
    "        super().__init__()\n",
    "        # self.uid_embsize=50\n",
    "        # self.day_embsize=5\n",
    "        # self.daytime_embsize=5\n",
    "\n",
    "        self.uid_embed=nn.Embedding(parameters['uid_size'],50)\n",
    "        self.day_embed=nn.Embedding(parameters['day_size'],5)\n",
    "        self.daytime_embed=nn.Embedding(parameters['daytime_size'],5)\n",
    "        self.vid_embed=nn.Embedding(parameters['vid_size'],500)\n",
    "        self.vcid_embed=nn.Embedding(parameters['vcid_size'],10)\n",
    "\n",
    "        self.fc_vid=nn.Linear(500,parameters['vid_size'])\n",
    "        self.fc_vcid=nn.Linear(500,parameters['vcid_size'])\n",
    "        self.fc=nn.Linear(550,500)\n",
    "\n",
    "        self.rnn=nn.GRU(570,500,1)\n",
    "        self.dropout = nn.Dropout(p=0.2)\n",
    "    def forward(self,uid,trace):\n",
    "        h1 = torch.zeros(1, 1, 500)\n",
    "\n",
    "        uid_embed=self.uid_embed(traces['uid'])\n",
    "        day_embed=self.day_embed(traces['day'])\n",
    "        daytime_embed=self.daytime_embed(traces['daytime'])\n",
    "        vid_embed=self.vid_embed(traces['vid'])\n",
    "        vcid_embed=self.vcid_embed(traces['vcid'])\n",
    "\n",
    "        x=torch.cat((day_embed,daytime_embed,vid_embed,vcid_embed),2)\n",
    "        out, h1 = self.rnn(x, h1)\n",
    "        out=torch.cat((uid_embed,out),2)\n",
    "        out = out.squeeze()\n",
    "        out=self.fc(out)\n",
    "        \n",
    "        out = self.dropout(out)\n",
    "        y = self.fc_vcid(out)\n",
    "        score = F.log_softmax(y,dim=None)"
   ]
  },
  {
   "cell_type": "code",
   "execution_count": 51,
   "metadata": {},
   "outputs": [
    {
     "output_type": "execute_result",
     "data": {
      "text/plain": [
       "tensor([2., 4.])"
      ]
     },
     "metadata": {},
     "execution_count": 51
    }
   ],
   "source": [
    "x=torch.Tensor([[1,2],[3,4]])\n",
    "x[:,1]"
   ]
  },
  {
   "cell_type": "code",
   "execution_count": 72,
   "metadata": {},
   "outputs": [],
   "source": [
    "traces={uid:[] for uid in S_u2.keys()}\n",
    "for uid in S_u2.keys():\n",
    "    for i,session in enumerate(S_u2[uid]):\n",
    "        if i==0:\n",
    "            continue\n",
    "        current_vid=torch.Tensor(session)[:,1].unsqueeze(-1)\n",
    "        current_day=torch.Tensor(session)[:,2].unsqueeze(-1)\n",
    "        current_daytime=torch.Tensor(session)[:,3].unsqueeze(-1)\n",
    "\n",
    "        history_vid=[]\n",
    "        history_day=[]\n",
    "        history_daytime=[]\n",
    "        for j in range(i):\n",
    "            tmp_session=S_u2[uid][j]\n",
    "            history_vid.extend([x[1] for x in tmp_session])\n",
    "            history_day.extend([x[2] for x in tmp_session])\n",
    "            history_daytime.extend([x[3] for x in tmp_session])\n",
    "        history_vid=torch.Tensor(history_vid).unsqueeze(-1)\n",
    "        history_day=torch.Tensor(history_day).unsqueeze(-1)\n",
    "        history_daytime=torch.Tensor(history_daytime).unsqueeze(-1)\n",
    "\n",
    "        trace={'current_vid':current_vid,'current_day':current_day,'current_daytime':current_daytime,'history_vid':history_vid,'history_day':history_day,'history_daytime':history_daytime}\n",
    "        traces[uid].append(trace)"
   ]
  },
  {
   "cell_type": "code",
   "execution_count": 80,
   "metadata": {},
   "outputs": [],
   "source": [
    "data_all['traces']=traces"
   ]
  },
  {
   "cell_type": "code",
   "execution_count": 81,
   "metadata": {},
   "outputs": [],
   "source": [
    "uid_embed=nn.Embedding(parameters['uid_size'],parameters['vid_size'])\n",
    "\n",
    "day_embed=nn.Embedding(parameters['day_size'],5)\n",
    "daytime_embed=nn.Embedding(parameters['daytime_size'],5)\n",
    "vid_embed=nn.Embedding(parameters['vid_size'],500)\n",
    "# vcid_embed=nn.Embedding(parameters['vcid_size'],10)\n",
    "\n",
    "fc=nn.Linear(510,500)\n",
    "fc_vid=nn.Linear(500,parameters['vid_size'])\n",
    "# fc_vcid=nn.Linear(500,parameters['vcid_size'])\n",
    "\n",
    "rnn=nn.GRU(570,500,1)\n",
    "dropout = nn.Dropout(p=0.2)"
   ]
  },
  {
   "cell_type": "code",
   "execution_count": 82,
   "metadata": {},
   "outputs": [
    {
     "output_type": "error",
     "ename": "TypeError",
     "evalue": "cannot unpack non-iterable numpy.int64 object",
     "traceback": [
      "\u001b[1;31m---------------------------------------------------------------------------\u001b[0m",
      "\u001b[1;31mTypeError\u001b[0m                                 Traceback (most recent call last)",
      "\u001b[1;32m<ipython-input-82-216ad8806b1e>\u001b[0m in \u001b[0;36m<module>\u001b[1;34m\u001b[0m\n\u001b[0;32m      1\u001b[0m \u001b[0mbreakpoint\u001b[0m\u001b[1;33m(\u001b[0m\u001b[1;33m)\u001b[0m\u001b[1;33m\u001b[0m\u001b[1;33m\u001b[0m\u001b[0m\n\u001b[1;32m----> 2\u001b[1;33m \u001b[1;32mfor\u001b[0m \u001b[0muid\u001b[0m\u001b[1;33m,\u001b[0m\u001b[0msessions\u001b[0m \u001b[1;32min\u001b[0m \u001b[0mtraces\u001b[0m\u001b[1;33m:\u001b[0m\u001b[1;33m\u001b[0m\u001b[1;33m\u001b[0m\u001b[0m\n\u001b[0m\u001b[0;32m      3\u001b[0m     \u001b[1;32mfor\u001b[0m \u001b[0mtrace\u001b[0m \u001b[1;32min\u001b[0m \u001b[0msessions\u001b[0m\u001b[1;33m:\u001b[0m\u001b[1;33m\u001b[0m\u001b[1;33m\u001b[0m\u001b[0m\n\u001b[0;32m      4\u001b[0m         \u001b[0mh1\u001b[0m \u001b[1;33m=\u001b[0m \u001b[0mtorch\u001b[0m\u001b[1;33m.\u001b[0m\u001b[0mzeros\u001b[0m\u001b[1;33m(\u001b[0m\u001b[1;36m1\u001b[0m\u001b[1;33m,\u001b[0m \u001b[1;36m1\u001b[0m\u001b[1;33m,\u001b[0m \u001b[1;36m500\u001b[0m\u001b[1;33m)\u001b[0m\u001b[1;33m\u001b[0m\u001b[1;33m\u001b[0m\u001b[0m\n\u001b[0;32m      5\u001b[0m \u001b[1;33m\u001b[0m\u001b[0m\n",
      "\u001b[1;31mTypeError\u001b[0m: cannot unpack non-iterable numpy.int64 object"
     ]
    }
   ],
   "source": [
    "for uid,sessions in traces.items():\n",
    "    for trace in sessions:\n",
    "        h1 = torch.zeros(1, 1, 500)\n",
    "        \n",
    "        uid_embed=self.uid_embed(torch.Tensor([uid]).unsqueeze(0))\n",
    "        day_embed=self.day_embed(trace['current_day'])\n",
    "        daytime_embed=self.daytime_embed(trace['current_daytime'])\n",
    "        vid_embed=self.vid_embed(trace['current_vid'])\n",
    "        # vcid_embed=self.vcid_embed(trace['vcid'])\n",
    "\n",
    "        x=torch.cat((day_embed,daytime_embed,vid_embed),2)\n",
    "        out, h1 = self.rnn(x, h1)\n",
    "        out=out[-1].unsqueeze(0)\n",
    "        # out=torch.cat((uid_embed,out),2)\n",
    "        # out = out.squeeze(1)\n",
    "        out=self.fc(out)\n",
    "\n",
    "        out = self.dropout(out)\n",
    "        y = self.fc_vid(out)+uid_embed\n",
    "        score = F.log_softmax(y,dim=None)"
   ]
  },
  {
   "cell_type": "code",
   "execution_count": null,
   "metadata": {},
   "outputs": [],
   "source": []
  }
 ]
}