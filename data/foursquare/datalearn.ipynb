{
 "metadata": {
  "language_info": {
   "codemirror_mode": {
    "name": "ipython",
    "version": 3
   },
   "file_extension": ".py",
   "mimetype": "text/x-python",
   "name": "python",
   "nbconvert_exporter": "python",
   "pygments_lexer": "ipython3",
   "version": "3.8.5-final"
  },
  "orig_nbformat": 2,
  "kernelspec": {
   "name": "python3",
   "display_name": "Python 3",
   "language": "python"
  }
 },
 "nbformat": 4,
 "nbformat_minor": 2,
 "cells": [
  {
   "cell_type": "code",
   "execution_count": 6,
   "metadata": {},
   "outputs": [],
   "source": [
    "import pickle\n",
    "import numpy as np"
   ]
  },
  {
   "cell_type": "code",
   "execution_count": 2,
   "metadata": {},
   "outputs": [],
   "source": [
    "with open('foursquare.pk','rb') as f:\n",
    "    data = pickle.load(f,encoding='utf-8')"
   ]
  },
  {
   "cell_type": "code",
   "execution_count": 3,
   "metadata": {},
   "outputs": [
    {
     "output_type": "stream",
     "name": "stdout",
     "text": [
      "data_neural\nvid_list\nuid_list\nparameters\ndata_filter\nvid_lookup\nvid_cluster\n"
     ]
    }
   ],
   "source": [
    "for name in data:\n",
    "    print(name)"
   ]
  },
  {
   "source": [
    "pids_all={}\n",
    "with open('venues_all.txt',encoding='utf-8') as f:\n",
    "    for i,line in enumerate(f):\n",
    "        pid, _, _, label1,label2 = line.strip('\\r\\n').split(',')\n",
    "        if pid not in pids_all:\n",
    "            index=len(pids_all)\n",
    "            pids_all[pid]=[1,index,label1,label2]   #index is the re-code of pid, eg vid\n",
    "            # print(\"line:\",i,\"pid:\",pid,\"label1:\",label1,\"label2:\",label2)\n",
    "        else:\n",
    "            pids_all[pid][0]+=1\n",
    "            print('duplicate')  #没有重复"
   ],
   "cell_type": "code",
   "metadata": {
    "tags": []
   },
   "execution_count": null,
   "outputs": []
  },
  {
   "cell_type": "code",
   "execution_count": null,
   "metadata": {
    "tags": [
     "outputPrepend"
    ]
   },
   "outputs": [],
   "source": [
    "count=0\n",
    "for pid in vid_list:\n",
    "    if pid not in pids_all:\n",
    "        count+=1\n",
    "        print(\"unknow pid:\",pid,vid_list[pid],count)"
   ]
  },
  {
   "source": [
    "## plot the map with clusters"
   ],
   "cell_type": "markdown",
   "metadata": {}
  },
  {
   "cell_type": "code",
   "execution_count": 4,
   "metadata": {},
   "outputs": [],
   "source": [
    "data_neural=data['data_neural']"
   ]
  },
  {
   "cell_type": "code",
   "execution_count": 5,
   "metadata": {},
   "outputs": [],
   "source": [
    "vid_lookup=data['vid_lookup']\n",
    "vid_cluster=data['vid_cluster']"
   ]
  },
  {
   "source": [
    "### 画出一个用户的全部轨迹"
   ],
   "cell_type": "markdown",
   "metadata": {}
  },
  {
   "cell_type": "code",
   "execution_count": 9,
   "metadata": {},
   "outputs": [],
   "source": [
    "sessions_1=data_neural[1]['sessions']\n",
    "# sessions_1"
   ]
  },
  {
   "cell_type": "code",
   "execution_count": 10,
   "metadata": {},
   "outputs": [],
   "source": [
    "lat_lon_usr=[]\n",
    "for i in sessions_1:\n",
    "    for r in sessions_1[i]:\n",
    "        lat_lon_usr.append(vid_lookup[r[0]])\n"
   ]
  },
  {
   "cell_type": "code",
   "execution_count": 23,
   "metadata": {},
   "outputs": [],
   "source": [
    "import gmplot\n",
    "lat_lon_usr=np.array(lat_lon_usr)\n",
    "gmap = gmplot.GoogleMapPlotter(lat_lon_usr[0,0],lat_lon_usr[0,1], 11)\n",
    "gmap.plot(lat_lon_usr[:,0],lat_lon_usr[:,1])\n",
    "for i in range(len(lat_lon_usr)):\n",
    "    gmap.marker(lat_lon_usr[i,0].reshape(-1,1),lat_lon_usr[i,1].reshape(-1,1),label=str(i),title=str(i))\n",
    "gmap.draw(\"records_usr2\"+\".html\")"
   ]
  },
  {
   "source": [
    "### 画出不重复的所有位置点"
   ],
   "cell_type": "markdown",
   "metadata": {}
  },
  {
   "cell_type": "code",
   "execution_count": 24,
   "metadata": {},
   "outputs": [],
   "source": [
    "\n",
    "lat_lon=[]\n",
    "cluster=[]\n",
    "for i in range(1,len(vid_lookup)+1):\n",
    "    lat_lon.append(vid_lookup[i])\n",
    "    cluster.append(vid_cluster[i])\n",
    "lat_lon=np.array(lat_lon)\n",
    "cluster=np.array(cluster)"
   ]
  },
  {
   "cell_type": "code",
   "execution_count": 29,
   "metadata": {},
   "outputs": [],
   "source": [
    "import gmplot\n",
    "gmap = gmplot.GoogleMapPlotter(lat_lon[0,0],lat_lon[0,1], 11)\n",
    "\n",
    "for i in range(len(lat_lon)):\n",
    "    # gmap.scatter(lat_lon[i,0].reshape(1,-1),lat_lon[i,1].reshape(1,-1),color='#FFF000', size=40,marker=False)\n",
    "    gmap.marker(lat_lon[i,0],lat_lon[i,1],label=str(cluster[i]),title=str(cluster[i]))\n",
    "gmap.draw(\"loc_nodup\"+\".html\")"
   ]
  }
 ]
}